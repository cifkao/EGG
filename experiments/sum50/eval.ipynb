{
 "cells": [
  {
   "cell_type": "code",
   "execution_count": 12,
   "metadata": {},
   "outputs": [],
   "source": [
    "import argparse\n",
    "import base64\n",
    "import ctypes\n",
    "import collections\n",
    "import itertools\n",
    "import shlex\n",
    "import traceback\n",
    "from pathlib import Path\n",
    "\n",
    "import numpy as np\n",
    "import pandas as pd\n",
    "import torch\n",
    "\n",
    "import egg\n",
    "from egg.zoo.basic_games.data_readers import AttrValClassDataset\n",
    "from egg.zoo.basic_games import play_sum"
   ]
  },
  {
   "cell_type": "code",
   "execution_count": 13,
   "metadata": {},
   "outputs": [],
   "source": [
    "PATH_TRAIN = \"../../data/sum50.train.train\"\n",
    "PATH_VAL = \"../../data/sum50.train.val\"\n",
    "PATH_TEST = \"../../data/sum50.test\"\n",
    "N_VALUES = 50\n",
    "N_CLASSES = N_VALUES * 2 - 1"
   ]
  },
  {
   "cell_type": "code",
   "execution_count": 14,
   "metadata": {},
   "outputs": [],
   "source": [
    "train_loader, test_loader = [\n",
    "    torch.utils.data.DataLoader(\n",
    "        AttrValClassDataset(\n",
    "            path=path,\n",
    "            n_values=N_VALUES,\n",
    "        ),\n",
    "        batch_size=32,\n",
    "        shuffle=False,\n",
    "        num_workers=1,\n",
    "    )\n",
    "    for path in [PATH_TRAIN, PATH_TEST]\n",
    "]"
   ]
  },
  {
   "cell_type": "code",
   "execution_count": 15,
   "metadata": {},
   "outputs": [],
   "source": [
    "def load_game(exp_dir):\n",
    "    with open(Path(exp_dir) / \"args\") as f:\n",
    "        args = shlex.split(f.read())\n",
    "    opts = play_sum.get_params(args)\n",
    "\n",
    "    # Make the trainer load the checkpoint instead of writing it\n",
    "    assert opts.checkpoint_dir\n",
    "    opts.load_from_checkpoint = str(Path(opts.checkpoint_dir) / \"final.tar\")\n",
    "    opts.checkpoint_dir = None\n",
    "    opts.tensorboard = False\n",
    "\n",
    "    game = play_sum.main(args, opts=opts, train=False)\n",
    "    game.eval()\n",
    "    return game, opts"
   ]
  },
  {
   "cell_type": "code",
   "execution_count": 16,
   "metadata": {},
   "outputs": [],
   "source": [
    "def interact(game, data_loader):\n",
    "    interactions = []\n",
    "    for sender_input, labels in data_loader:\n",
    "        with torch.no_grad():\n",
    "            interactions.append(game(sender_input.cuda(), labels.cuda())[1].to(\"cpu\"))\n",
    "    return egg.core.Interaction.from_iterable(interactions)"
   ]
  },
  {
   "cell_type": "code",
   "execution_count": 17,
   "metadata": {},
   "outputs": [],
   "source": [
    "def balanced_accuracy(interaction):\n",
    "    class_hits = np.bincount(interaction.labels, weights=interaction.aux[\"acc\"])\n",
    "    class_counts = np.bincount(interaction.labels)\n",
    "    class_accuracies = class_hits[class_counts > 0] / class_counts[class_counts > 0]\n",
    "    return class_accuracies.mean()"
   ]
  },
  {
   "cell_type": "code",
   "execution_count": 18,
   "metadata": {
    "scrolled": true
   },
   "outputs": [
    {
     "name": "stdout",
     "output_type": "stream",
     "text": [
      "Namespace(batch_size=32, checkpoint_dir=None, checkpoint_freq=0, cuda=True, device=device(type='cuda'), distributed_context=DistributedContext(is_distributed=False, rank=0, local_rank=0, world_size=1, mode='none'), distributed_port=18363, fp16=False, load_from_checkpoint='20210728-021922/final.tar', lr=0.001, max_len=1, mode='rf', n_attributes=None, n_epochs=500, n_values=50, no_cuda=False, optimizer='adam', preemptable=False, print_validation_events=False, random_seed=706341019, receiver_cell='rnn', receiver_embedding=10, receiver_hidden=200, receiver_layers=2, rnn=False, sender_cell='rnn', sender_embedding=10, sender_entropy_coeff=0.1, sender_hidden=200, sender_layers=2, temperature=1.0, tensorboard=False, tensorboard_dir='20210728-021922', train_data='../../data/sum50.train.train', update_freq=1, validation_batch_size=32, validation_data='../../data/sum50.train.val', validation_freq=20, vocab_size=5000)\n",
      "# Initializing model, trainer, and optimizer from 20210728-021922/final.tar\n",
      "# loading trainer state from 20210728-021922/final.tar\n",
      "Namespace(batch_size=32, checkpoint_dir=None, checkpoint_freq=0, cuda=True, device=device(type='cuda'), distributed_context=DistributedContext(is_distributed=False, rank=0, local_rank=0, world_size=1, mode='none'), distributed_port=18363, fp16=False, load_from_checkpoint='20210725-003558/final.tar', lr=0.001, max_len=4, mode='rf', n_attributes=None, n_epochs=500, n_values=50, no_cuda=False, optimizer='adam', preemptable=False, print_validation_events=False, random_seed=1648931166, receiver_cell='gru', receiver_embedding=50, receiver_hidden=100, receiver_layers=1, rnn=True, sender_cell='gru', sender_embedding=50, sender_entropy_coeff=0.1, sender_hidden=100, sender_layers=1, temperature=1.0, tensorboard=False, tensorboard_dir='20210725-003558', train_data='../../data/sum50.train.train', update_freq=1, validation_batch_size=32, validation_data='../../data/sum50.train.val', validation_freq=20, vocab_size=20)\n",
      "# Initializing model, trainer, and optimizer from 20210725-003558/final.tar\n",
      "# loading trainer state from 20210725-003558/final.tar\n"
     ]
    }
   ],
   "source": [
    "results = {}\n",
    "for exp_dir in [\"20210728-021922\", \"20210725-003558\"]:\n",
    "    try:\n",
    "        game, opts = load_game(exp_dir)\n",
    "    except:\n",
    "        traceback.print_exc()\n",
    "        continue\n",
    "    results[str(exp_dir)] = {}\n",
    "    for split, data_loader in [(\"train\", train_loader), (\"test\", test_loader)]:\n",
    "        interaction = interact(game, data_loader)\n",
    "        results[str(exp_dir)][split + \"_acc\"] = balanced_accuracy(interaction)\n",
    "results = pd.DataFrame.from_dict(results, orient=\"index\")"
   ]
  },
  {
   "cell_type": "code",
   "execution_count": 19,
   "metadata": {
    "scrolled": true
   },
   "outputs": [
    {
     "data": {
      "text/html": [
       "<div>\n",
       "<style scoped>\n",
       "    .dataframe tbody tr th:only-of-type {\n",
       "        vertical-align: middle;\n",
       "    }\n",
       "\n",
       "    .dataframe tbody tr th {\n",
       "        vertical-align: top;\n",
       "    }\n",
       "\n",
       "    .dataframe thead th {\n",
       "        text-align: right;\n",
       "    }\n",
       "</style>\n",
       "<table border=\"1\" class=\"dataframe\">\n",
       "  <thead>\n",
       "    <tr style=\"text-align: right;\">\n",
       "      <th></th>\n",
       "      <th>train_acc</th>\n",
       "      <th>test_acc</th>\n",
       "    </tr>\n",
       "  </thead>\n",
       "  <tbody>\n",
       "    <tr>\n",
       "      <th>20210728-021922</th>\n",
       "      <td>0.328195</td>\n",
       "      <td>0.081806</td>\n",
       "    </tr>\n",
       "    <tr>\n",
       "      <th>20210725-003558</th>\n",
       "      <td>0.972613</td>\n",
       "      <td>0.401741</td>\n",
       "    </tr>\n",
       "  </tbody>\n",
       "</table>\n",
       "</div>"
      ],
      "text/plain": [
       "                 train_acc  test_acc\n",
       "20210728-021922   0.328195  0.081806\n",
       "20210725-003558   0.972613  0.401741"
      ]
     },
     "execution_count": 19,
     "metadata": {},
     "output_type": "execute_result"
    }
   ],
   "source": [
    "results"
   ]
  },
  {
   "cell_type": "code",
   "execution_count": 21,
   "metadata": {},
   "outputs": [
    {
     "name": "stdout",
     "output_type": "stream",
     "text": [
      "\\begin{tabular}{rr}\n",
      "\\toprule\n",
      " train\\_acc &  test\\_acc \\\\\n",
      "\\midrule\n",
      "      0.33 &      0.08 \\\\\n",
      "      0.97 &      0.40 \\\\\n",
      "\\bottomrule\n",
      "\\end{tabular}\n",
      "\n"
     ]
    }
   ],
   "source": [
    "with pd.option_context(\"display.precision\", 2):\n",
    "    print(results.to_latex(index=False))"
   ]
  },
  {
   "cell_type": "code",
   "execution_count": null,
   "metadata": {},
   "outputs": [],
   "source": []
  }
 ],
 "metadata": {
  "kernelspec": {
   "display_name": "egg",
   "language": "python",
   "name": "egg"
  },
  "language_info": {
   "codemirror_mode": {
    "name": "ipython",
    "version": 3
   },
   "file_extension": ".py",
   "mimetype": "text/x-python",
   "name": "python",
   "nbconvert_exporter": "python",
   "pygments_lexer": "ipython3",
   "version": "3.8.10"
  }
 },
 "nbformat": 4,
 "nbformat_minor": 2
}
